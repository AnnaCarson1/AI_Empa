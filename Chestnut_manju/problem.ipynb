{
 "cells": [
  {
   "cell_type": "code",
   "execution_count": null,
   "metadata": {},
   "outputs": [],
   "source": [
    "import matplotlib.pyplot as plt\n",
    "\n",
    "def calculate_time_to_cover(target_volume, growth_rate, interval):\n",
    "    time_list = [0]  # Start at time 0\n",
    "    volume_list = [1]  # Initial volume of one chestnut bun\n",
    "\n",
    "    current_volume = 1\n",
    "    time = 0\n",
    "\n",
    "    while current_volume < target_volume:\n",
    "        time += interval\n",
    "        current_volume *= 2  # Byevine doubles the volume\n",
    "\n",
    "        time_list.append(time)\n",
    "        volume_list.append(current_volume)\n",
    "\n",
    "    return time_list, volume_list\n",
    "\n",
    "def plot_growth_curve(time_list, volume_list):\n",
    "    \"\"\"\n",
    "    Plot the growth curve.\n",
    "\n",
    "    Parameters:\n",
    "    - time_list: List of time points\n",
    "    - volume_list: List of volumes corresponding to each time point\n",
    "    \"\"\"\n",
    "    plt.figure(figsize=(10, 6))\n",
    "    plt.plot(time_list, volume_list, marker='o', linestyle='-', color='b')\n",
    "    plt.title('Chestnut Bun Growth Over Time')\n",
    "    plt.xlabel('Time (minutes)')\n",
    "    plt.ylabel('Chestnut Bun Volume')\n",
    "    plt.grid(True)\n",
    "    plt.show()\n",
    "\n",
    "solar_system_volume = 4.1e67  \n",
    "growth_rate = 2 \n",
    "sprinkle_interval = 5  \n",
    "\n",
    "time_points, volume_points = calculate_time_to_cover(solar_system_volume, growth_rate, sprinkle_interval)\n",
    "\n",
    "plot_growth_curve(time_points, volume_points)\n"
   ]
  }
 ],
 "metadata": {
  "language_info": {
   "name": "python"
  }
 },
 "nbformat": 4,
 "nbformat_minor": 2
}
