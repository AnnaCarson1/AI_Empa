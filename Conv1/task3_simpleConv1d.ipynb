version https://git-lfs.github.com/spec/v1
oid sha256:79a4c0c312df7d975cc8228350e9a9379565741e17aa80934bc6c536aba651ac
size 93168
