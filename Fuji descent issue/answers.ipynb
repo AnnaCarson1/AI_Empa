{
 "cells": [
  {
   "cell_type": "markdown",
   "metadata": {},
   "source": [
    "[Problem 1] How many times to fold paper to exceed the height of Mt.Fuji?"
   ]
  },
  {
   "cell_type": "code",
   "execution_count": 1,
   "metadata": {},
   "outputs": [
    {
     "name": "stdout",
     "output_type": "stream",
     "text": [
      "To exceed the height of Mt. Fuji, you need to fold the paper 26 times.\n"
     ]
    }
   ],
   "source": [
    "import math\n",
    "\n",
    "def calculate_folds_to_exceed_height(target_height, initial_thickness=0.00008):\n",
    "    folds = 0\n",
    "    current_thickness = initial_thickness\n",
    "\n",
    "    while current_thickness < target_height:\n",
    "        current_thickness *= 2\n",
    "        folds += 1\n",
    "\n",
    "    return folds\n",
    "\n",
    "# Mt. Fuji height in meters\n",
    "fuji_height = 3776\n",
    "result_problem_1 = calculate_folds_to_exceed_height(fuji_height)\n",
    "print(f\"To exceed the height of Mt. Fuji, you need to fold the paper {result_problem_1} times.\")\n"
   ]
  },
  {
   "cell_type": "markdown",
   "metadata": {},
   "source": [
    "[Problem 2] Function corresponding to arbitrary thickness"
   ]
  },
  {
   "cell_type": "code",
   "execution_count": 2,
   "metadata": {},
   "outputs": [
    {
     "name": "stdout",
     "output_type": "stream",
     "text": [
      "To reach Proxima Centauri, you need to fold the paper 69 times.\n"
     ]
    }
   ],
   "source": [
    "def calculate_folds_to_exceed_thickness(target_thickness, initial_thickness=0.00008):\n",
    "    folds = 0\n",
    "    current_thickness = initial_thickness\n",
    "\n",
    "    while current_thickness < target_thickness:\n",
    "        current_thickness *= 2\n",
    "        folds += 1\n",
    "\n",
    "    return folds\n",
    "\n",
    "# Distance to Proxima Centauri in meters\n",
    "proxima_centauri_distance = 4.0175e16\n",
    "result_problem_2 = calculate_folds_to_exceed_thickness(proxima_centauri_distance)\n",
    "print(f\"To reach Proxima Centauri, you need to fold the paper {result_problem_2} times.\")\n"
   ]
  },
  {
   "cell_type": "markdown",
   "metadata": {},
   "source": [
    "[Problem 3] Required paper length"
   ]
  },
  {
   "cell_type": "code",
   "execution_count": 3,
   "metadata": {},
   "outputs": [
    {
     "name": "stdout",
     "output_type": "stream",
     "text": [
      "Paper length needed to reach the Moon: 188646348487.24017 meters\n",
      "Paper length needed to reach Mt. Fuji: 1.4595803601100348e+37 meters\n"
     ]
    }
   ],
   "source": [
    "import math\n",
    "\n",
    "def calculate_folds_to_exceed_height(target_height, initial_thickness=0.00008):\n",
    "    folds = 0\n",
    "    current_thickness = initial_thickness\n",
    "\n",
    "    while current_thickness < target_height:\n",
    "        current_thickness *= 2\n",
    "        folds += 1\n",
    "\n",
    "    return folds\n",
    "\n",
    "def calculate_folds_to_exceed_thickness(target_thickness, initial_thickness=0.00008):\n",
    "    folds = 0\n",
    "    current_thickness = initial_thickness\n",
    "\n",
    "    while current_thickness < target_thickness:\n",
    "        current_thickness *= 2\n",
    "        folds += 1\n",
    "\n",
    "    return folds\n",
    "\n",
    "def calculate_paper_length_for_folds(folds, initial_thickness=0.00008):\n",
    "    length = (math.pi * initial_thickness) / 6 * (2**folds + 4) * (2**folds - 1)\n",
    "    return length\n",
    "\n",
    "# Mt. Fuji height in meters\n",
    "fuji_height = 3776\n",
    "result_problem_1 = calculate_folds_to_exceed_height(fuji_height)\n",
    "\n",
    "# Distance to Proxima Centauri in meters\n",
    "proxima_centauri_distance = 4.0175e16\n",
    "result_problem_2 = calculate_folds_to_exceed_thickness(proxima_centauri_distance)\n",
    "\n",
    "# Calculate lengths for Moon, Mt. Fuji, and Proxima Centauri\n",
    "length_moon = calculate_paper_length_for_folds(result_problem_1)\n",
    "length_fuji = calculate_paper_length_for_folds(result_problem_2)\n",
    "\n",
    "print(f\"Paper length needed to reach the Moon: {length_moon} meters\")\n",
    "print(f\"Paper length needed to reach Mt. Fuji: {length_fuji} meters\")\n"
   ]
  }
 ],
 "metadata": {
  "kernelspec": {
   "display_name": "base",
   "language": "python",
   "name": "python3"
  },
  "language_info": {
   "codemirror_mode": {
    "name": "ipython",
    "version": 3
   },
   "file_extension": ".py",
   "mimetype": "text/x-python",
   "name": "python",
   "nbconvert_exporter": "python",
   "pygments_lexer": "ipython3",
   "version": "3.9.13"
  }
 },
 "nbformat": 4,
 "nbformat_minor": 2
}
