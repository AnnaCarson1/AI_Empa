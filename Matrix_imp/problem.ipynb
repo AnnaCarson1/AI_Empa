{
 "cells": [
  {
   "cell_type": "markdown",
   "metadata": {},
   "source": [
    "\n",
    "**[Problem 2] Calculation by NumPy function**\n",
    "\n",
    "Now, let's use NumPy to calculate the matrix product.\n",
    "\n",
    "```python\n",
    "\n",
    "```\n",
    "\n",
    "This will output the same matrix as the one calculated manually.\n",
    "\n",
    "**[Problem 3] Implementation of calculation of a certain element**\n",
    "\n",
    "Now, let's write code to calculate a specific element without using np.matmul(), np.dot(), or @ operators.\n",
    "\n",
    "```python\n",
    "def calculate_element(a, b, i, j):\n",
    "    element = 0\n",
    "    for k in range(len(a[0])):\n",
    "        element += a[i, k] * b[k, j]\n",
    "    return element\n",
    "\n",
    "# Example usage:\n",
    "element_00 = calculate_element(a_ndarray, b_ndarray, 0, 0)\n",
    "print(element_00)\n",
    "```\n",
    "\n",
    "**[Problem 4] Creating a function that performs matrix multiplication**\n",
    "\n",
    "Now, let's extend the code to create a function that performs matrix multiplication.\n",
    "\n",
    "```python\n",
    "def matrix_multiply(a, b):\n",
    "    c = np.zeros((len(a), len(b[0])))\n",
    "    for i in range(len(a)):\n",
    "        for j in range(len(b[0])):\n",
    "            c[i, j] = calculate_element(a, b, i, j)\n",
    "    return c\n",
    "\n",
    "# Example usage:\n",
    "result_scratch = matrix_multiply(a_ndarray, b_ndarray)\n",
    "print(result_scratch)\n",
    "```\n",
    "\n",
    "This function should produce the same result as the NumPy calculation.\n",
    "\n",
    "**[Problem 5] Judge the input whose calculation is not defined**\n",
    "\n",
    "Now, let's add a check to see if the multiplication is defined before performing the multiplication.\n",
    "\n",
    "```python\n",
    "def matrix_multiply_safe(a, b):\n",
    "    if len(a[0]) != len(b):\n",
    "        print(\"Matrix multiplication is not defined for the given matrices.\")\n",
    "        return None\n",
    "    else:\n",
    "        return matrix_multiply(a, b)\n",
    "\n",
    "# Example usage:\n",
    "result_safe = matrix_multiply_safe(d_ndarray, e_ndarray)\n",
    "if result_safe is not None:\n",
    "    print(result_safe)\n",
    "```\n",
    "\n",
    "**[Problem 6] Transposition**\n",
    "\n",
    "Now, let's transpose matrix D and calculate the matrix product.\n",
    "\n",
    "```python\n",
    "d_transposed = np.transpose(d_ndarray)\n",
    "result_transposed = np.matmul(d_transposed, e_ndarray)\n",
    "\n",
    "# Alternatively, you can use d_transposed @ e_ndarray\n",
    "# result_transposed = d_transposed @ e_ndarray\n",
    "\n",
    "print(result_transposed)\n",
    "```\n",
    "\n",
    "This should give you the matrix product using the transposed matrix."
   ]
  },
  {
   "cell_type": "markdown",
   "metadata": {},
   "source": [
    "[Problem 2] Calculation by NumPy function"
   ]
  },
  {
   "cell_type": "code",
   "execution_count": 1,
   "metadata": {},
   "outputs": [
    {
     "name": "stdout",
     "output_type": "stream",
     "text": [
      "[[  6  29 -20]\n",
      " [ 12  52  38]\n",
      " [-18 -51 -48]]\n"
     ]
    }
   ],
   "source": [
    "import numpy as np\n",
    "\n",
    "a_ndarray = np.array([[-1, 2, 3], [4, -5, 6], [7, 8, -9]])\n",
    "b_ndarray = np.array([[0, 2, 1], [0, 2, -8], [2, 9, -1]])\n",
    "\n",
    "result = np.matmul(a_ndarray, b_ndarray)\n",
    "print(result)"
   ]
  },
  {
   "cell_type": "markdown",
   "metadata": {},
   "source": [
    "[Problem 3] Implementation of calculation of a certain element\n",
    "\n",
    "Now, let's write code to calculate a specific element without using np.matmul(), np.dot(), or @ operators."
   ]
  },
  {
   "cell_type": "code",
   "execution_count": 2,
   "metadata": {},
   "outputs": [
    {
     "name": "stdout",
     "output_type": "stream",
     "text": [
      "6\n"
     ]
    }
   ],
   "source": [
    "def calculate_element(a, b, i, j):\n",
    "    element = 0\n",
    "    for k in range(len(a[0])):\n",
    "        element += a[i, k] * b[k, j]\n",
    "    return element\n",
    "\n",
    "element_00 = calculate_element(a_ndarray, b_ndarray, 0, 0)\n",
    "print(element_00)\n"
   ]
  },
  {
   "cell_type": "markdown",
   "metadata": {},
   "source": [
    "[Problem 4] Creating a function that performs matrix multiplication\n",
    "\n",
    "Now, let's extend the code to create a function that performs matrix multiplication"
   ]
  },
  {
   "cell_type": "code",
   "execution_count": 3,
   "metadata": {},
   "outputs": [
    {
     "name": "stdout",
     "output_type": "stream",
     "text": [
      "[[  6.  29. -20.]\n",
      " [ 12.  52.  38.]\n",
      " [-18. -51. -48.]]\n"
     ]
    }
   ],
   "source": [
    "def matrix_multiply(a, b):\n",
    "    c = np.zeros((len(a), len(b[0])))\n",
    "    for i in range(len(a)):\n",
    "        for j in range(len(b[0])):\n",
    "            c[i, j] = calculate_element(a, b, i, j)\n",
    "    return c\n",
    "\n",
    "result_scratch = matrix_multiply(a_ndarray, b_ndarray)\n",
    "print(result_scratch)\n"
   ]
  },
  {
   "cell_type": "markdown",
   "metadata": {},
   "source": [
    "[Problem 5] Judge the input whose calculation is not defined\n",
    "\n"
   ]
  },
  {
   "cell_type": "code",
   "execution_count": 6,
   "metadata": {},
   "outputs": [
    {
     "name": "stdout",
     "output_type": "stream",
     "text": [
      "Matrix multiplication is not defined for the given matrices.\n"
     ]
    }
   ],
   "source": [
    "import numpy as np\n",
    "\n",
    "d_ndarray = np.array([[-1, 2, 3], [4, -5, 6]])\n",
    "e_ndarray = np.array([[-9, 8, 7], [6, -5, 4]])\n",
    "\n",
    "def matrix_multiply_safe(a, b):\n",
    "    if len(a[0]) != len(b):\n",
    "        print(\"Matrix multiplication is not defined for the given matrices.\")\n",
    "        return None\n",
    "    else:\n",
    "        return matrix_multiply(a, b)\n",
    "\n",
    "result_safe = matrix_multiply_safe(d_ndarray, e_ndarray)\n",
    "if result_safe is not None:\n",
    "    print(result_safe)\n"
   ]
  },
  {
   "cell_type": "markdown",
   "metadata": {},
   "source": [
    "[Problem 6] Transposition\n",
    "\n"
   ]
  },
  {
   "cell_type": "code",
   "execution_count": 7,
   "metadata": {},
   "outputs": [
    {
     "name": "stdout",
     "output_type": "stream",
     "text": [
      "[[ 33 -28   9]\n",
      " [-48  41  -6]\n",
      " [  9  -6  45]]\n"
     ]
    }
   ],
   "source": [
    "d_transposed = np.transpose(d_ndarray)\n",
    "result_transposed = np.matmul(d_transposed, e_ndarray)\n",
    "\n",
    "# Alternatively, you can use d_transposed @ e_ndarray\n",
    "# result_transposed = d_transposed @ e_ndarray\n",
    "\n",
    "print(result_transposed)\n",
    "\n"
   ]
  },
  {
   "cell_type": "markdown",
   "metadata": {},
   "source": []
  }
 ],
 "metadata": {
  "kernelspec": {
   "display_name": "base",
   "language": "python",
   "name": "python3"
  },
  "language_info": {
   "codemirror_mode": {
    "name": "ipython",
    "version": 3
   },
   "file_extension": ".py",
   "mimetype": "text/x-python",
   "name": "python",
   "nbconvert_exporter": "python",
   "pygments_lexer": "ipython3",
   "version": "3.9.13"
  }
 },
 "nbformat": 4,
 "nbformat_minor": 2
}
