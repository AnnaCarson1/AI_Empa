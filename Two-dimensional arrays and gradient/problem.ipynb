{
 "cells": [
  {
   "cell_type": "markdown",
   "metadata": {},
   "source": [
    "Problem 1: Linear Function\n"
   ]
  },
  {
   "cell_type": "code",
   "execution_count": 1,
   "metadata": {},
   "outputs": [],
   "source": [
    "import numpy as np\n",
    "\n",
    "# Generate x values\n",
    "x_values = np.arange(-50, 50.1, 0.1)\n",
    "\n",
    "# Calculate y values for the linear function\n",
    "y_values = 0.5 * x_values + 1\n"
   ]
  },
  {
   "cell_type": "markdown",
   "metadata": {},
   "source": [
    "Problem 2: Array Combination\n"
   ]
  },
  {
   "cell_type": "code",
   "execution_count": 2,
   "metadata": {},
   "outputs": [],
   "source": [
    "# Combine ndarrays into a (1001, 2) array\n",
    "array_combined = np.column_stack((x_values, y_values))\n"
   ]
  },
  {
   "cell_type": "markdown",
   "metadata": {},
   "source": [
    "Problem 3: Find the Gradient\n"
   ]
  },
  {
   "cell_type": "code",
   "execution_count": 3,
   "metadata": {},
   "outputs": [],
   "source": [
    "# Calculate the gradient\n",
    "gradient = np.diff(y_values) / np.diff(x_values)\n",
    "array_xy = np.column_stack((x_values[:-1], gradient))\n"
   ]
  },
  {
   "cell_type": "markdown",
   "metadata": {},
   "source": [
    "Problem 4: Draw a Graph\n"
   ]
  },
  {
   "cell_type": "code",
   "execution_count": 4,
   "metadata": {},
   "outputs": [
    {
     "data": {
      "image/png": "[encoded data removed]",
      "text/plain": [
       "<Figure size 640x480 with 1 Axes>"
      ]
     },
     "metadata": {},
     "output_type": "display_data"
    }
   ],
   "source": [
    "import matplotlib.pyplot as plt\n",
    "\n",
    "# Plot the linear function\n",
    "plt.plot(x_values, y_values, label='Linear Function')\n",
    "\n",
    "# Plot the gradient\n",
    "plt.plot(array_xy[:, 0], array_xy[:, 1], label='Gradient', linestyle='dashed')\n",
    "\n",
    "# Add labels and legend\n",
    "plt.xlabel('x')\n",
    "plt.ylabel('y')\n",
    "plt.legend()\n",
    "\n",
    "# Show the plot\n",
    "plt.show()\n"
   ]
  },
  {
   "cell_type": "markdown",
   "metadata": {},
   "source": [
    "Problem 5: Python Functionalization\n"
   ]
  },
  {
   "cell_type": "code",
   "execution_count": 6,
   "metadata": {},
   "outputs": [],
   "source": [
    "def compute_gradient(function, x_range=(-50, 50.1, 0.1)):\n",
    "    \"\"\"\n",
    "    Calculate the gradient using the amount of change.\n",
    "\n",
    "    Parameters\n",
    "    ----------------\n",
    "    function : function\n",
    "      The function you want to find, the one that returns the ndarray of y when you put the ndarray of x.\n",
    "    x_range : tuple\n",
    "      Specify the range in the same way as the argument of np.arange ().\n",
    "\n",
    "    Returns\n",
    "    ----------------\n",
    "    array_xy : ndarray, shape(n, 2)\n",
    "      A combination of x and y. n depends on x_range.\n",
    "    gradient : ndarray, shape(n-1,)\n",
    "      Function gradient. One factor is reduced to make a difference\n",
    "    \"\"\"\n",
    "    array_x = np.arange(x_range[0], x_range[1], x_range[2])\n",
    "    array_y = function(array_x)\n",
    "    gradient = np.diff(array_y) / np.diff(array_x)\n",
    "    array_xy = np.column_stack((array_x[:-1], gradient))\n",
    "    return array_xy, gradient\n",
    "\n",
    "# Now you can use the function\n",
    "array_xy, gradient = compute_gradient(function1)\n"
   ]
  },
  {
   "cell_type": "code",
   "execution_count": 7,
   "metadata": {},
   "outputs": [],
   "source": [
    "def function1(array_x):\n",
    "    return 0.5 * array_x + 1\n",
    "\n",
    "array_xy, gradient = compute_gradient(function1)\n"
   ]
  },
  {
   "cell_type": "markdown",
   "metadata": {},
   "source": [
    "Problem 5: Python Functionalization\n"
   ]
  },
  {
   "cell_type": "code",
   "execution_count": 8,
   "metadata": {},
   "outputs": [],
   "source": [
    "def function1(array_x):\n",
    "    return 0.5 * array_x + 1\n",
    "\n",
    "array_xy, gradient = compute_gradient(function1)\n"
   ]
  },
  {
   "cell_type": "markdown",
   "metadata": {},
   "source": [
    "Problem 6: Find the Minimum Value\n"
   ]
  },
  {
   "cell_type": "code",
   "execution_count": 9,
   "metadata": {},
   "outputs": [
    {
     "name": "stdout",
     "output_type": "stream",
     "text": [
      "Minimum y value: -24.0\n",
      "Index of the minimum y value: 0\n",
      "Slope before minimum y: 0.5\n",
      "Slope after minimum y: 0.5\n"
     ]
    }
   ],
   "source": [
    "# Find the minimum value and its index\n",
    "min_y = np.min(y_values)\n",
    "min_y_index = np.argmin(y_values)\n",
    "\n",
    "# Display the results\n",
    "print(f\"Minimum y value: {min_y}\")\n",
    "print(f\"Index of the minimum y value: {min_y_index}\")\n",
    "print(f\"Slope before minimum y: {gradient[min_y_index - 1]}\")\n",
    "print(f\"Slope after minimum y: {gradient[min_y_index]}\")\n"
   ]
  }
 ],
 "metadata": {
  "kernelspec": {
   "display_name": "base",
   "language": "python",
   "name": "python3"
  },
  "language_info": {
   "codemirror_mode": {
    "name": "ipython",
    "version": 3
   },
   "file_extension": ".py",
   "mimetype": "text/x-python",
   "name": "python",
   "nbconvert_exporter": "python",
   "pygments_lexer": "ipython3",
   "version": "3.9.13"
  }
 },
 "nbformat": 4,
 "nbformat_minor": 2
}
