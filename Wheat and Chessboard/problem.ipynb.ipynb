{
 "cells": [
  {
   "cell_type": "markdown",
   "metadata": {},
   "source": [
    "[Problem 1] Number of wheat on a 2 x 2 square chessboard\n",
    "\n"
   ]
  },
  {
   "cell_type": "code",
   "execution_count": null,
   "metadata": {},
   "outputs": [],
   "source": [
    "import numpy as np\n",
    "\n",
    "# Define a function to calculate wheat on the chessboard\n",
    "def calculate_wheat_on_chessboard(n, m):\n",
    "    board = np.array([[2**(i+j) for j in range(m)] for i in range(n)])\n",
    "    return board\n",
    "\n",
    "# Calculate wheat on a 2x2 chessboard\n",
    "result_problem_1 = calculate_wheat_on_chessboard(2, 2)\n",
    "print(result_problem_1)\n"
   ]
  }
 ],
 "metadata": {
  "kernelspec": {
   "display_name": "base",
   "language": "python",
   "name": "python3"
  },
  "language_info": {
   "name": "python",
   "version": "3.9.13"
  }
 },
 "nbformat": 4,
 "nbformat_minor": 2
}
